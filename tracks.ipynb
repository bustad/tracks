{
 "cells": [
  {
   "cell_type": "markdown",
   "id": "fda0f207-0ebd-4cda-9cff-e630f4c1f6f9",
   "metadata": {},
   "source": [
    "# Downloader and playlist creator of songs from Tracks\n",
    "\n",
    "## Step 1 \n",
    "Run `tracks-downloader.py` to get all tracks from the website. Results in 24148 entries in `tracks-db.txt`.\n",
    "\n",
    "## Step 2\n",
    "Run `tracks-db-remove-duplicates.py` to create `tracks-db-no-duplicates.txt` with 6805 entries.\n",
    "\n",
    "## Step 3\n",
    "Create an application and get the Client ID and Client Secret codes.\n",
    "- Head over to Spotify’s developer dashboard and create a new application.\n",
    "- From the app’s dashboard, click the “Edit Settings” button, and add a Redirect URI to http://localhost:7777/callback.\n",
    "- Obtain the Client ID and Client Secret codes.\n",
    "\n",
    "## Step 4\n",
    "Get OAuth Token from Spotify, according to these guidelines:\n",
    "- [Bored of Libraries? Here’s How to Connect to the Spotify API Using Pure Python](https://python.plainenglish.io/bored-of-libraries-heres-how-to-connect-to-the-spotify-api-using-pure-python-bd31e9e3d88a) and [SpotifyAPIConnection](https://github.com/SeanDuttonJones/SpotifyAPIConnection)\n",
    "- [Authorization Code Flow](https://developer.spotify.com/documentation/general/guides/authorization/code-flow/)\n",
    "- [Authorization Scopes](https://developer.spotify.com/documentation/general/guides/authorization/scopes/)"
   ]
  },
  {
   "cell_type": "code",
   "execution_count": 1,
   "id": "d2fd8cc1-6d8b-4734-a0e2-faba6a7711db",
   "metadata": {},
   "outputs": [
    {
     "name": "stdout",
     "output_type": "stream",
     "text": [
      "Enter this URL into a web browser:\n",
      "https://accounts.spotify.com/authorize?client_id=04846d52f69f460ab9787d6ef30c4060&response_type=code&redirect_uri=http%3A%2F%2Flocalhost%3A7777%2Fcallback&scope=playlist-modify-public\n"
     ]
    }
   ],
   "source": [
    "import requests\n",
    "from urllib.parse import urlencode\n",
    "import base64\n",
    "\n",
    "# Enter client id here:\n",
    "client_id = \"04846d52f69f460ab9787d6ef30c4060\" \n",
    "\n",
    "# Enter client secret here:\n",
    "client_secret = \"fcef16fc797342b8a2e9f6f39b41b6b6\"\n",
    "\n",
    "auth_headers = {\n",
    "    \"client_id\": client_id,\n",
    "    \"response_type\": \"code\",\n",
    "    \"redirect_uri\": \"http://localhost:7777/callback\",\n",
    "    \"scope\": \"playlist-modify-public\"\n",
    "}\n",
    "\n",
    "print(\"Enter this URL into a web browser:\")\n",
    "print(\"https://accounts.spotify.com/authorize?\" + urlencode(auth_headers))"
   ]
  },
  {
   "cell_type": "code",
   "execution_count": 2,
   "id": "7d20bbf9-892b-4cbc-a204-3ed45e5e3fcb",
   "metadata": {},
   "outputs": [
    {
     "name": "stdout",
     "output_type": "stream",
     "text": [
      "access_token :\n",
      "   BQCd5E155U7ycGq3rMd-rMJAhZeZm35JaR-wgTYTzerXZxZ7mPRkpM7aypYmn2_8YSXeMM0GyeDKu419Ey4dJtJ-L9DUsic7G23r26q7Urt8R3USy39UVWqy5yrafOGZW-x4cHUkTHGAGXlrF67Ebr6lk5RnT77JP6m8TR54zlXGYEUsETbObeIl5cKoj-Hq7VQmTCC4GnfQCHF-LPxhLZm7MbnNZS6AaJ4sWg\n",
      "token_type :\n",
      "   Bearer\n",
      "expires_in :\n",
      "   3600\n",
      "refresh_token :\n",
      "   AQC3xjuOBZmgn2m4j2lkiPbgJ2zRTFdTvzrjVeNHl99x0WdlDtE-ZTTe8cmDT0GS6n64NU3NxOJYqWiTQtLFG-JMXVppnWWFBlz7FlFUBor7r6ZjWXTwtHS7_OMZBGInO7I\n",
      "scope :\n",
      "   playlist-modify-public\n"
     ]
    }
   ],
   "source": [
    "# The enter the URL the browser was redirected to here:\n",
    "new_url = \"http://localhost:7777/callback?code=AQCvXCu9bxEDRP0WtWjhdQ4ArE3M0uaJZ1mZJMGG14voRtXJjhx4z03U1qJREzHUr4J1eypjKsxUHMEM5H2ol0wR1Vyos7cVDQ-AH9j1llRO2Ef_Utr5d7UEwpzXghMWA2vQR-8OOLIG8oMP4tj__TUOdoCUskuwoYGJzrQxbzYuk1Us31NPI0lWkYoWTnKr7-CiKfeErzugHg\"\n",
    "\n",
    "code = new_url.split(\"?code=\")[1]\n",
    "\n",
    "encoded_credentials = base64.b64encode(client_id.encode() + b':' + client_secret.encode()).decode(\"utf-8\")\n",
    "\n",
    "token_headers = {\n",
    "    \"Authorization\": \"Basic \" + encoded_credentials,\n",
    "    \"Content-Type\": \"application/x-www-form-urlencoded\"\n",
    "}\n",
    "\n",
    "token_data = {\n",
    "    \"grant_type\": \"authorization_code\",\n",
    "    \"code\": code,\n",
    "    \"redirect_uri\": \"http://localhost:7777/callback\"\n",
    "}\n",
    "\n",
    "r = requests.post(\"https://accounts.spotify.com/api/token\", data=token_data, headers=token_headers)\n",
    "token_etc = r.json()\n",
    "token = token_etc[\"access_token\"]\n",
    "\n",
    "for key, value in token_etc.items():\n",
    "    print(key, ':\\n  ', value)"
   ]
  },
  {
   "cell_type": "markdown",
   "id": "a5b35062-a520-4277-9913-1f07078a6982",
   "metadata": {},
   "source": [
    "## Step 5\n",
    "Try a search..."
   ]
  },
  {
   "cell_type": "code",
   "execution_count": 3,
   "id": "f2244700-8173-4aa8-b4a5-bc57455b82c2",
   "metadata": {},
   "outputs": [],
   "source": [
    "user_headers = {\n",
    "    \"Authorization\": \"Bearer \" + token,\n",
    "    \"Content-Type\": \"application/json\",\n",
    "    \"Accept\": \"application/json\"\n",
    "}\n",
    "\n",
    "user_params = {\n",
    "    \"limit\": 10,\n",
    "    \"q\": \"artist:MO-DO track:EINS, ZWEI, POLIZEI\",\n",
    "    \"type\": \"track\"\n",
    "}\n",
    "\n",
    "r = requests.get(\"https://api.spotify.com/v1/search\", params=user_params, headers=user_headers).json()"
   ]
  },
  {
   "cell_type": "markdown",
   "id": "ed964105-e1c8-40e6-8439-4cd1e7514bd0",
   "metadata": {},
   "source": [
    "...and explore the result..."
   ]
  },
  {
   "cell_type": "code",
   "execution_count": 4,
   "id": "982fd233-9b27-4d8a-af19-d33872eecb3a",
   "metadata": {},
   "outputs": [
    {
     "name": "stdout",
     "output_type": "stream",
     "text": [
      "<class 'dict'>\n",
      "dict_keys(['tracks'])\n"
     ]
    }
   ],
   "source": [
    "print(type(r))\n",
    "print(r.keys())"
   ]
  },
  {
   "cell_type": "code",
   "execution_count": 5,
   "id": "59d976e5-b4e0-4196-abde-533a823172e1",
   "metadata": {},
   "outputs": [
    {
     "name": "stdout",
     "output_type": "stream",
     "text": [
      "dict_keys(['href', 'items', 'limit', 'next', 'offset', 'previous', 'total'])\n"
     ]
    }
   ],
   "source": [
    "print(r['tracks'].keys())"
   ]
  },
  {
   "cell_type": "code",
   "execution_count": 6,
   "id": "0aeb4570-2c4a-4d0b-9a58-d7f555baed94",
   "metadata": {},
   "outputs": [
    {
     "name": "stdout",
     "output_type": "stream",
     "text": [
      "https://api.spotify.com/v1/search?query=artist%3AMO-DO+track%3AEINS%2C+ZWEI%2C+POLIZEI&type=track&offset=0&limit=10\n",
      "10\n",
      "https://api.spotify.com/v1/search?query=artist%3AMO-DO+track%3AEINS%2C+ZWEI%2C+POLIZEI&type=track&offset=10&limit=10\n",
      "0\n",
      "None\n",
      "29\n"
     ]
    }
   ],
   "source": [
    "print(r['tracks']['href'])\n",
    "print(r['tracks']['limit'])\n",
    "print(r['tracks']['next'])\n",
    "print(r['tracks']['offset'])\n",
    "print(r['tracks']['previous'])\n",
    "print(r['tracks']['total'])"
   ]
  },
  {
   "cell_type": "code",
   "execution_count": 7,
   "id": "7f6762f1-fe8c-4952-9cb2-88295329d3e0",
   "metadata": {},
   "outputs": [
    {
     "name": "stdout",
     "output_type": "stream",
     "text": [
      "<class 'list'>\n",
      "10\n"
     ]
    }
   ],
   "source": [
    "print(type(r['tracks']['items']))\n",
    "print(len(r['tracks']['items']))"
   ]
  },
  {
   "cell_type": "code",
   "execution_count": 8,
   "id": "d8413d65-bcfb-4942-87fa-771383f5ce9c",
   "metadata": {},
   "outputs": [
    {
     "name": "stdout",
     "output_type": "stream",
     "text": [
      "<class 'dict'>\n",
      "dict_keys(['album', 'artists', 'available_markets', 'disc_number', 'duration_ms', 'explicit', 'external_ids', 'external_urls', 'href', 'id', 'is_local', 'name', 'popularity', 'preview_url', 'track_number', 'type', 'uri'])\n"
     ]
    }
   ],
   "source": [
    "print(type(r['tracks']['items'][0]))\n",
    "print(r['tracks']['items'][0].keys())"
   ]
  },
  {
   "cell_type": "code",
   "execution_count": 9,
   "id": "7610d13b-68a2-4a55-89f5-96a465fb6cfc",
   "metadata": {},
   "outputs": [
    {
     "name": "stdout",
     "output_type": "stream",
     "text": [
      "{'album_type': 'album', 'artists': [{'external_urls': {'spotify': 'https://open.spotify.com/artist/3Y42QTbwNJeqEVmrMknG0f'}, 'href': 'https://api.spotify.com/v1/artists/3Y42QTbwNJeqEVmrMknG0f', 'id': '3Y42QTbwNJeqEVmrMknG0f', 'name': 'Mo-Do', 'type': 'artist', 'uri': 'spotify:artist:3Y42QTbwNJeqEVmrMknG0f'}], 'available_markets': ['AD', 'AE', 'AG', 'AL', 'AO', 'AR', 'AT', 'AU', 'BA', 'BB', 'BD', 'BE', 'BF', 'BG', 'BH', 'BI', 'BJ', 'BN', 'BO', 'BR', 'BS', 'BT', 'BW', 'BZ', 'CA', 'CD', 'CG', 'CH', 'CI', 'CL', 'CM', 'CO', 'CR', 'CV', 'CW', 'CY', 'CZ', 'DE', 'DJ', 'DK', 'DM', 'DO', 'DZ', 'EC', 'EG', 'ES', 'FI', 'FJ', 'FM', 'FR', 'GA', 'GB', 'GD', 'GE', 'GH', 'GM', 'GN', 'GQ', 'GR', 'GT', 'GW', 'GY', 'HK', 'HN', 'HR', 'HT', 'HU', 'ID', 'IE', 'IL', 'IN', 'IQ', 'IS', 'IT', 'JM', 'JO', 'JP', 'KE', 'KH', 'KI', 'KM', 'KN', 'KR', 'KW', 'LA', 'LB', 'LC', 'LI', 'LK', 'LR', 'LS', 'LU', 'LY', 'MA', 'MC', 'ME', 'MG', 'MH', 'MK', 'ML', 'MN', 'MO', 'MR', 'MT', 'MU', 'MV', 'MW', 'MX', 'MY', 'MZ', 'NA', 'NE', 'NG', 'NI', 'NL', 'NO', 'NP', 'NR', 'NZ', 'OM', 'PA', 'PE', 'PG', 'PH', 'PK', 'PL', 'PS', 'PT', 'PW', 'PY', 'QA', 'RO', 'RS', 'RW', 'SA', 'SB', 'SC', 'SE', 'SG', 'SI', 'SK', 'SL', 'SM', 'SN', 'SR', 'ST', 'SV', 'SZ', 'TD', 'TG', 'TH', 'TL', 'TN', 'TO', 'TR', 'TT', 'TV', 'TW', 'TZ', 'UG', 'US', 'UY', 'VC', 'VE', 'VN', 'VU', 'WS', 'XK', 'ZA', 'ZM', 'ZW'], 'external_urls': {'spotify': 'https://open.spotify.com/album/0QmvLPwLCu50ebemsJZT6F'}, 'href': 'https://api.spotify.com/v1/albums/0QmvLPwLCu50ebemsJZT6F', 'id': '0QmvLPwLCu50ebemsJZT6F', 'images': [{'height': 640, 'url': 'https://i.scdn.co/image/ab67616d0000b273cbe544f5f1f27a5f5c0917ad', 'width': 640}, {'height': 300, 'url': 'https://i.scdn.co/image/ab67616d00001e02cbe544f5f1f27a5f5c0917ad', 'width': 300}, {'height': 64, 'url': 'https://i.scdn.co/image/ab67616d00004851cbe544f5f1f27a5f5c0917ad', 'width': 64}], 'name': 'Was Ist Das', 'release_date': '1995-01-01', 'release_date_precision': 'day', 'total_tracks': 11, 'type': 'album', 'uri': 'spotify:album:0QmvLPwLCu50ebemsJZT6F'}\n"
     ]
    }
   ],
   "source": [
    "print(r['tracks']['items'][0]['album'])"
   ]
  },
  {
   "cell_type": "code",
   "execution_count": 10,
   "id": "33d60836-e3af-4aa8-ac5a-49ee3f5a424b",
   "metadata": {},
   "outputs": [
    {
     "name": "stdout",
     "output_type": "stream",
     "text": [
      "[{'external_urls': {'spotify': 'https://open.spotify.com/artist/3Y42QTbwNJeqEVmrMknG0f'}, 'href': 'https://api.spotify.com/v1/artists/3Y42QTbwNJeqEVmrMknG0f', 'id': '3Y42QTbwNJeqEVmrMknG0f', 'name': 'Mo-Do', 'type': 'artist', 'uri': 'spotify:artist:3Y42QTbwNJeqEVmrMknG0f'}]\n"
     ]
    }
   ],
   "source": [
    "print(r['tracks']['items'][0]['artists'])"
   ]
  },
  {
   "cell_type": "code",
   "execution_count": 11,
   "id": "e9ab5c52-4612-4a3a-848c-842299c6ff54",
   "metadata": {},
   "outputs": [
    {
     "name": "stdout",
     "output_type": "stream",
     "text": [
      "1\n"
     ]
    }
   ],
   "source": [
    "print(r['tracks']['items'][0]['disc_number'])"
   ]
  },
  {
   "cell_type": "code",
   "execution_count": 12,
   "id": "37ecec1f-11b7-453f-b3fc-c565bfcca39d",
   "metadata": {},
   "outputs": [
    {
     "name": "stdout",
     "output_type": "stream",
     "text": [
      "313426\n"
     ]
    }
   ],
   "source": [
    "print(r['tracks']['items'][0]['duration_ms'])"
   ]
  },
  {
   "cell_type": "code",
   "execution_count": 13,
   "id": "20d33417-5969-42d3-97bc-11fd18c01dd9",
   "metadata": {},
   "outputs": [
    {
     "name": "stdout",
     "output_type": "stream",
     "text": [
      "False\n"
     ]
    }
   ],
   "source": [
    "print(r['tracks']['items'][0]['explicit'])"
   ]
  },
  {
   "cell_type": "code",
   "execution_count": 14,
   "id": "00f93f1c-8d25-4c8d-80f9-c18270201c5b",
   "metadata": {},
   "outputs": [
    {
     "name": "stdout",
     "output_type": "stream",
     "text": [
      "{'isrc': 'IT00G9503301'}\n"
     ]
    }
   ],
   "source": [
    "print(r['tracks']['items'][0]['external_ids'])"
   ]
  },
  {
   "cell_type": "code",
   "execution_count": 15,
   "id": "411202a8-1afc-492b-ac40-81c86cdb0359",
   "metadata": {},
   "outputs": [
    {
     "name": "stdout",
     "output_type": "stream",
     "text": [
      "{'spotify': 'https://open.spotify.com/track/015p8TgFahkz0viuux9YGJ'}\n"
     ]
    }
   ],
   "source": [
    "print(r['tracks']['items'][0]['external_urls'])"
   ]
  },
  {
   "cell_type": "code",
   "execution_count": 16,
   "id": "9376cde8-1e65-4497-9591-8d22bc7eee19",
   "metadata": {},
   "outputs": [
    {
     "name": "stdout",
     "output_type": "stream",
     "text": [
      "https://api.spotify.com/v1/tracks/015p8TgFahkz0viuux9YGJ\n"
     ]
    }
   ],
   "source": [
    "print(r['tracks']['items'][0]['href'])"
   ]
  },
  {
   "cell_type": "code",
   "execution_count": 17,
   "id": "af746827-daad-4adf-8d15-be11b4731351",
   "metadata": {},
   "outputs": [
    {
     "name": "stdout",
     "output_type": "stream",
     "text": [
      "015p8TgFahkz0viuux9YGJ\n"
     ]
    }
   ],
   "source": [
    "print(r['tracks']['items'][0]['id'])"
   ]
  },
  {
   "cell_type": "code",
   "execution_count": 18,
   "id": "a74f24f0-a55f-4cad-a539-0c63b815667a",
   "metadata": {},
   "outputs": [
    {
     "name": "stdout",
     "output_type": "stream",
     "text": [
      "False\n"
     ]
    }
   ],
   "source": [
    "print(r['tracks']['items'][0]['is_local'])"
   ]
  },
  {
   "cell_type": "code",
   "execution_count": 19,
   "id": "ba4f31d3-7be5-45c3-b560-d6e462753f2c",
   "metadata": {},
   "outputs": [
    {
     "name": "stdout",
     "output_type": "stream",
     "text": [
      "Eins Zwei Polizei\n"
     ]
    }
   ],
   "source": [
    "print(r['tracks']['items'][0]['name'])"
   ]
  },
  {
   "cell_type": "code",
   "execution_count": 20,
   "id": "ab3710e3-dfa9-4a47-9f35-1a724a24adc1",
   "metadata": {},
   "outputs": [
    {
     "name": "stdout",
     "output_type": "stream",
     "text": [
      "58\n"
     ]
    }
   ],
   "source": [
    "print(r['tracks']['items'][0]['popularity'])"
   ]
  },
  {
   "cell_type": "code",
   "execution_count": 21,
   "id": "89125dec-f8a7-41c7-9a20-65cc2e4c3b14",
   "metadata": {},
   "outputs": [
    {
     "name": "stdout",
     "output_type": "stream",
     "text": [
      "https://p.scdn.co/mp3-preview/16407b38bda71015ed98fecb9c23be4198b76f94?cid=04846d52f69f460ab9787d6ef30c4060\n"
     ]
    }
   ],
   "source": [
    "print(r['tracks']['items'][3]['preview_url'])"
   ]
  },
  {
   "cell_type": "code",
   "execution_count": 22,
   "id": "b67f1827-e9d5-4799-abef-c1246df523fe",
   "metadata": {},
   "outputs": [
    {
     "name": "stdout",
     "output_type": "stream",
     "text": [
      "1\n"
     ]
    }
   ],
   "source": [
    "print(r['tracks']['items'][0]['track_number'])"
   ]
  },
  {
   "cell_type": "code",
   "execution_count": 23,
   "id": "58aefd5e-387b-4301-9e03-f730b3791bae",
   "metadata": {},
   "outputs": [
    {
     "name": "stdout",
     "output_type": "stream",
     "text": [
      "track\n"
     ]
    }
   ],
   "source": [
    "print(r['tracks']['items'][0]['type'])"
   ]
  },
  {
   "cell_type": "code",
   "execution_count": 4,
   "id": "a21cdca5-97b1-423d-b7ae-7f78d00d2605",
   "metadata": {},
   "outputs": [
    {
     "name": "stdout",
     "output_type": "stream",
     "text": [
      "spotify:track:3lGbOPJo60Evft3ZiBT2Vt\n"
     ]
    }
   ],
   "source": [
    "print(r['tracks']['items'][3]['uri'])"
   ]
  },
  {
   "cell_type": "code",
   "execution_count": 25,
   "id": "e134ecd1-6700-4dc6-b2e5-59cd3a7284db",
   "metadata": {},
   "outputs": [
    {
     "name": "stdout",
     "output_type": "stream",
     "text": [
      "1994-01-01\n"
     ]
    }
   ],
   "source": [
    "print(r['tracks']['items'][3]['album']['release_date'])"
   ]
  },
  {
   "cell_type": "code",
   "execution_count": 27,
   "id": "021669bb-e64a-4cd3-905f-29dd08a0e420",
   "metadata": {},
   "outputs": [
    {
     "name": "stdout",
     "output_type": "stream",
     "text": [
      "single\n"
     ]
    }
   ],
   "source": [
    "print(r['tracks']['items'][3]['album']['album_type'])"
   ]
  },
  {
   "cell_type": "markdown",
   "id": "b3881fd1-fe3c-459f-910c-ce2e582a64f6",
   "metadata": {},
   "source": [
    "## Step 6\n",
    "Try to create a playlist..."
   ]
  },
  {
   "cell_type": "code",
   "execution_count": 47,
   "id": "b27b5511-6fd4-4bcc-851b-e14a490e31e7",
   "metadata": {},
   "outputs": [
    {
     "name": "stdout",
     "output_type": "stream",
     "text": [
      "collaborative :\n",
      "   False\n",
      "description :\n",
      "   New playlist description\n",
      "external_urls :\n",
      "   {'spotify': 'https://open.spotify.com/playlist/6XkJPD7ZJfZL0wKvBU16Az'}\n",
      "followers :\n",
      "   {'href': None, 'total': 0}\n",
      "href :\n",
      "   https://api.spotify.com/v1/playlists/6XkJPD7ZJfZL0wKvBU16Az\n",
      "id :\n",
      "   6XkJPD7ZJfZL0wKvBU16Az\n",
      "images :\n",
      "   []\n",
      "name :\n",
      "   New Playlist 2\n",
      "owner :\n",
      "   {'display_name': 'Christofer', 'external_urls': {'spotify': 'https://open.spotify.com/user/3163rzb6ts2tg3rr3kmg7wihg2mm'}, 'href': 'https://api.spotify.com/v1/users/3163rzb6ts2tg3rr3kmg7wihg2mm', 'id': '3163rzb6ts2tg3rr3kmg7wihg2mm', 'type': 'user', 'uri': 'spotify:user:3163rzb6ts2tg3rr3kmg7wihg2mm'}\n",
      "primary_color :\n",
      "   None\n",
      "public :\n",
      "   True\n",
      "snapshot_id :\n",
      "   MSwwNDExMDZjOTBmZTc2ZmNiNDQ4MjE5YmJiZjg4ZmY5MjM3NjZjMTE3\n",
      "tracks :\n",
      "   {'href': 'https://api.spotify.com/v1/playlists/6XkJPD7ZJfZL0wKvBU16Az/tracks', 'items': [], 'limit': 100, 'next': None, 'offset': 0, 'previous': None, 'total': 0}\n",
      "type :\n",
      "   playlist\n",
      "uri :\n",
      "   spotify:playlist:6XkJPD7ZJfZL0wKvBU16Az\n"
     ]
    }
   ],
   "source": [
    "import json\n",
    "\n",
    "user_id = \"3163rzb6ts2tg3rr3kmg7wihg2mm\"\n",
    "\n",
    "token_headers = {\n",
    "    \"Content-Type\": \"application/json\",\n",
    "    \"Authorization\": \"Bearer \" + token,\n",
    "}\n",
    "\n",
    "token_data = {\n",
    "  \"name\": \"New Playlist 2\",\n",
    "  \"description\": \"New playlist description\",\n",
    "}\n",
    "\n",
    "r = requests.post(\"https://api.spotify.com/v1/users/\" + user_id + \"/playlists\", data=json.dumps(token_data), headers=token_headers)\n",
    "token_etc = r.json()\n",
    "\n",
    "for key, value in token_etc.items():\n",
    "    print(key, ':\\n  ', value)"
   ]
  },
  {
   "cell_type": "markdown",
   "id": "b1815f25-0577-427e-9218-db72528250a6",
   "metadata": {},
   "source": [
    "## Step 7\n",
    "Try to add an item to a playlist..."
   ]
  },
  {
   "cell_type": "code",
   "execution_count": 5,
   "id": "bed23a81-e39c-4125-a4e0-fe94a7db04b6",
   "metadata": {},
   "outputs": [
    {
     "name": "stdout",
     "output_type": "stream",
     "text": [
      "snapshot_id :\n",
      "   Myw5ZjIwOTA0ZTU0ZWJhMDkyYTdmMzViODdiYzVjNzZkNTAyMjExOTA0\n"
     ]
    }
   ],
   "source": [
    "import json\n",
    "\n",
    "playlist_id = \"6XkJPD7ZJfZL0wKvBU16Az\"\n",
    "\n",
    "token_headers = {\n",
    "    \"Content-Type\": \"application/json\",\n",
    "    \"Authorization\": \"Bearer \" + token,\n",
    "}\n",
    "\n",
    "token_data = {\"uris\": [\"spotify:track:3lGbOPJo60Evft3ZiBT2Vt\",\"spotify:track:3lGbOPJo60Evft3ZiBT2Vt\", \"spotify:track:3lGbOPJo60Evft3ZiBT2Vt\"]}\n",
    "\n",
    "r = requests.post(\"https://api.spotify.com/v1/playlists/\" + playlist_id + \"/tracks\", data=json.dumps(token_data), headers=token_headers)\n",
    "token_etc = r.json()\n",
    "\n",
    "for key, value in token_etc.items():\n",
    "    print(key, ':\\n  ', value)"
   ]
  }
 ],
 "metadata": {
  "kernelspec": {
   "display_name": "Python 3 (ipykernel)",
   "language": "python",
   "name": "python3"
  },
  "language_info": {
   "codemirror_mode": {
    "name": "ipython",
    "version": 3
   },
   "file_extension": ".py",
   "mimetype": "text/x-python",
   "name": "python",
   "nbconvert_exporter": "python",
   "pygments_lexer": "ipython3",
   "version": "3.7.12"
  }
 },
 "nbformat": 4,
 "nbformat_minor": 5
}
