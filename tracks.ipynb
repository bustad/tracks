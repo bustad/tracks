{
 "cells": [
  {
   "cell_type": "markdown",
   "id": "fda0f207-0ebd-4cda-9cff-e630f4c1f6f9",
   "metadata": {},
   "source": [
    "# Downloader and playlist creator of songs from Tracks\n",
    "\n",
    "Step 1: Run `tracks-downloader.py` to get all tracks from the website. Results in 24148 entries in `tracks-db.txt`.\n",
    "\n",
    "Step 2: Run `tracks-db-remove-duplicates.py` to create `tracks-db-no-duplicates.txt` with 6805 entries."
   ]
  },
  {
   "cell_type": "code",
   "execution_count": null,
   "id": "d2fd8cc1-6d8b-4734-a0e2-faba6a7711db",
   "metadata": {},
   "outputs": [],
   "source": []
  }
 ],
 "metadata": {
  "kernelspec": {
   "display_name": "Python 3 (ipykernel)",
   "language": "python",
   "name": "python3"
  },
  "language_info": {
   "codemirror_mode": {
    "name": "ipython",
    "version": 3
   },
   "file_extension": ".py",
   "mimetype": "text/x-python",
   "name": "python",
   "nbconvert_exporter": "python",
   "pygments_lexer": "ipython3",
   "version": "3.7.12"
  }
 },
 "nbformat": 4,
 "nbformat_minor": 5
}
